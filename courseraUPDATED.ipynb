{
 "cells": [
  {
   "cell_type": "markdown",
   "id": "b26741cc",
   "metadata": {},
   "source": [
    "# Coursera Professional Certification and Specialization Data collection"
   ]
  },
  {
   "cell_type": "markdown",
   "id": "4bc2494c",
   "metadata": {},
   "source": [
    "Importing libraries"
   ]
  },
  {
   "cell_type": "code",
   "execution_count": 1,
   "id": "a6d55a03",
   "metadata": {},
   "outputs": [
    {
     "name": "stdout",
     "output_type": "stream",
     "text": [
      "EXECUTE NEXT CELL\n"
     ]
    }
   ],
   "source": [
    "from selenium import webdriver\n",
    "import time\n",
    "import pandas as pd\n",
    "import re\n",
    "\n",
    "option = webdriver.ChromeOptions() # setting up in a way that chrome will open full screen\n",
    "option.add_argument('--start-maximized')\n",
    "\n",
    "web = webdriver.Chrome(options=option)\n",
    "web.get('https://www.coursera.org/in?authMode=login')  ## coursea website\n",
    "\n",
    "time.sleep(3)\n",
    "print('EXECUTE NEXT CELL')\n"
   ]
  },
  {
   "cell_type": "markdown",
   "id": "06a65d11",
   "metadata": {},
   "source": [
    "Coursera Login Page (change login email and password according to your account)"
   ]
  },
  {
   "cell_type": "code",
   "execution_count": null,
   "id": "eb44a26e",
   "metadata": {},
   "outputs": [],
   "source": [
    "web.find_element_by_xpath('//*[@id=\"email\"]').send_keys('cbsnext33@gmail.com')  # your email\n",
    "web.find_element_by_xpath('//*[@id=\"password\"]').send_keys('Shreyas@2003')  # your password\n",
    "time.sleep(2)\n",
    "web.find_element_by_xpath('/html/body/div[3]/div/div/section/section/div[1]/form/button').click()\n",
    "\n",
    "humanverification = input('CLICK ENTER AFTER YOU CLEAR CAPTCHA')  # you will have to clear captcha verification and click enter\n",
    "\n",
    "web.find_element_by_xpath('//*[@id=\"rendered-content\"]/div/div/div/span/div[1]/header/div[2]/div/div[1]/div/div/div[3]/div/div[2]/form/div/div/div[1]/button[2]/div').click() #  login button\n",
    "time.sleep(4)\n",
    "\n",
    "web.find_element_by_xpath('//*[@id=\"main\"]/div/div[2]/div/div[2]/div[1]/div/div[1]/div/span').click() # selecting 'english'\n",
    "web.find_element_by_xpath('//*[@id=\"react-select-2--option-0\"]/div/button/label/input').click()\n",
    "time.sleep(4)\n",
    "\n",
    "web.find_element_by_xpath('//*[@id=\"main\"]/div/div[2]/div/div[2]/div[7]/div/div[1]/div/span').click() # selecting professional certificate and specliazation\n",
    "web.find_element_by_xpath('//*[@id=\"react-select-8--option-2\"]/div/button/label/input').click()\n",
    "time.sleep(4)\n",
    "\n",
    "web.find_element_by_xpath('//*[@id=\"main\"]/div/div[2]/div/div[2]/div[7]/div/div[1]/div/span').click()\n",
    "web.find_element_by_xpath('//*[@id=\"react-select-8--option-3\"]/div/button/label/input').click()\n",
    "time.sleep(4)\n",
    "print('EXECUTE NEXT CELL')\n"
   ]
  },
  {
   "cell_type": "code",
   "execution_count": 30,
   "id": "d90d7c2f",
   "metadata": {},
   "outputs": [
    {
     "name": "stdout",
     "output_type": "stream",
     "text": [
      "EXECUTE NEXT CELL\n"
     ]
    }
   ],
   "source": [
    "URL = []\n",
    "NAME = []\n",
    "companyname = []\n",
    "coursetype = []\n",
    "cn_path = []\n",
    "ctype = []\n",
    "no_courses = []\n",
    "xpath = []\n",
    "npath = []\n",
    "print('EXECUTE NEXT CELL')"
   ]
  },
  {
   "cell_type": "markdown",
   "id": "45a89a5e",
   "metadata": {},
   "source": [
    "Creating a dataset for all the xpaths "
   ]
  },
  {
   "cell_type": "code",
   "execution_count": 31,
   "id": "e703159b",
   "metadata": {},
   "outputs": [
    {
     "name": "stdout",
     "output_type": "stream",
     "text": [
      "EXECUTE NEXT CELL\n"
     ]
    }
   ],
   "source": [
    "i = 1\n",
    "n = 0\n",
    "a = 0\n",
    "while i in range(11):\n",
    "    path = '//*[@id=\"main\"]/div/div/div[1]/div/div/div/div/div/div/ul/li[' + str(i) + ']/div'\n",
    "    xpath.append(path) \n",
    "    n_path = '//*[@id=\"main\"]/div/div/div[1]/div/div/div/div/div/div/ul/li[' + str(i) + ']/div/div/a/div/div[2]/h2'\n",
    "    npath.append(n_path)\n",
    "    compname = '//*[@id=\"main\"]/div/div/div[1]/div/div/div/div/div/div/ul/li[' + str(i) + ']/div/div/a/div/div[2]/div[1]/div/span'\n",
    "    cn_path.append(compname) \n",
    "    cpath = '//*[@id=\"main\"]/div/div/div[1]/div/div/div/div/div/div/ul/li[' + str(i) + ']/div/div/a/div/div[2]/div[2]/div/div/span'\n",
    "    ctype.append(cpath)\n",
    "    i += 1\n",
    "   \n",
    "    \n",
    "print('EXECUTE NEXT CELL')    "
   ]
  },
  {
   "cell_type": "markdown",
   "id": "5f341208",
   "metadata": {},
   "source": [
    "Iterating through each label and adding the data to lists (NAME , URL , NUMBER OF COURSES, COMPANY NAME, COURSE TYPE)"
   ]
  },
  {
   "cell_type": "code",
   "execution_count": null,
   "id": "bbaf5060",
   "metadata": {
    "scrolled": true
   },
   "outputs": [],
   "source": [
    "while n in range(10):\n",
    "    NAME.append(web.find_element_by_xpath(npath[n]).text) ## Name of professional certificate/specialization\n",
    "    companyname.append(web.find_element_by_xpath(cn_path[n]).text) # name of company/institute providing certification\n",
    "    coursetype.append(web.find_element_by_xpath(ctype[n]).text) # type of the course \n",
    "    web.find_element_by_xpath(xpath[n]).click()\n",
    "    time.sleep(4)\n",
    "    web.switch_to.window(web.window_handles[1])\n",
    "    URL.append(web.current_url)               ## The link for course        \n",
    "    try:\n",
    "        web.find_element_by_xpath('//*[@id=\"main\"]/div/div[6]/div/div/div[2]/ul/li/div[2]/button').click() # the SHOW MORE button\n",
    "    except:\n",
    "        pass\n",
    "    try:\n",
    "        b = web.find_element_by_css_selector('#main > div > div:nth-child(6) > div').text # using regex to find the number of courses by using Findall in the description of course.\n",
    "        no_courses.append(len(re.findall('COURSE\\n[0-9]', b)))  # adding the number of courses to courses dataset\n",
    "    except:\n",
    "        no_courses.append('N/A')\n",
    "    web.close()\n",
    "    web.switch_to.window(web.window_handles[0])\n",
    "    n += 1\n",
    "    if n == 10:\n",
    "        web.find_element_by_xpath('//*[@id=\"main\"]/div/div/div[1]/div/div/div/div/div/div/div[1]/div/button[7]').click()   # after iterating through 10 courses the code will move onto the next page\n",
    "        n = 0\n",
    "        time.sleep(4)  "
   ]
  },
  {
   "cell_type": "code",
   "execution_count": 8,
   "id": "abe279cc",
   "metadata": {},
   "outputs": [
    {
     "name": "stdout",
     "output_type": "stream",
     "text": [
      "EXECUTE NEXT CELL\n"
     ]
    }
   ],
   "source": [
    "        ## making sure the lengths of the lists are same\n",
    "if len(NAME) == len(no_courses) == len(URL) == len(companyname) == len(coursetype):\n",
    "    print('EXECUTE NEXT CELL')"
   ]
  },
  {
   "cell_type": "code",
   "execution_count": 36,
   "id": "2732f2f7",
   "metadata": {
    "scrolled": true
   },
   "outputs": [
    {
     "data": {
      "text/html": [
       "<div>\n",
       "<style scoped>\n",
       "    .dataframe tbody tr th:only-of-type {\n",
       "        vertical-align: middle;\n",
       "    }\n",
       "\n",
       "    .dataframe tbody tr th {\n",
       "        vertical-align: top;\n",
       "    }\n",
       "\n",
       "    .dataframe thead th {\n",
       "        text-align: right;\n",
       "    }\n",
       "</style>\n",
       "<table border=\"1\" class=\"dataframe\">\n",
       "  <thead>\n",
       "    <tr style=\"text-align: right;\">\n",
       "      <th></th>\n",
       "      <th>Column1</th>\n",
       "      <th>NAME</th>\n",
       "      <th>NUMBER OF COURSES</th>\n",
       "      <th>companyname</th>\n",
       "      <th>coursetype</th>\n",
       "      <th>URL2</th>\n",
       "      <th>Column5</th>\n",
       "    </tr>\n",
       "  </thead>\n",
       "  <tbody>\n",
       "    <tr>\n",
       "      <th>0</th>\n",
       "      <td>59</td>\n",
       "      <td>(ISC)² Systems Security Certified Practitioner...</td>\n",
       "      <td>6.0</td>\n",
       "      <td>(ISC)²</td>\n",
       "      <td>SPECIALIZATION</td>\n",
       "      <td>https://www.coursera.org/specializations/sscp-...</td>\n",
       "      <td>NaN</td>\n",
       "    </tr>\n",
       "    <tr>\n",
       "      <th>1</th>\n",
       "      <td>357</td>\n",
       "      <td>3D Printing and Additive Manufacturing</td>\n",
       "      <td>5.0</td>\n",
       "      <td>University of Illinois at Urbana-Champaign</td>\n",
       "      <td>SPECIALIZATION</td>\n",
       "      <td>https://www.coursera.org/specializations/3d-pr...</td>\n",
       "      <td>NaN</td>\n",
       "    </tr>\n",
       "    <tr>\n",
       "      <th>2</th>\n",
       "      <td>355</td>\n",
       "      <td>商务基础 (中文版)</td>\n",
       "      <td>5.0</td>\n",
       "      <td>University of Pennsylvania</td>\n",
       "      <td>SPECIALIZATION</td>\n",
       "      <td>https://www.coursera.org/specializations/whart...</td>\n",
       "      <td>NaN</td>\n",
       "    </tr>\n",
       "    <tr>\n",
       "      <th>3</th>\n",
       "      <td>502</td>\n",
       "      <td>商务英语课程 Business English</td>\n",
       "      <td>4.0</td>\n",
       "      <td>Arizona State University</td>\n",
       "      <td>SPECIALIZATION</td>\n",
       "      <td>https://www.coursera.org/specializations/shang...</td>\n",
       "      <td>NaN</td>\n",
       "    </tr>\n",
       "    <tr>\n",
       "      <th>4</th>\n",
       "      <td>341</td>\n",
       "      <td>Éxito Profesional</td>\n",
       "      <td>10.0</td>\n",
       "      <td>University of California, Irvine</td>\n",
       "      <td>SPECIALIZATION</td>\n",
       "      <td>https://www.coursera.org/specializations/exito...</td>\n",
       "      <td>NaN</td>\n",
       "    </tr>\n",
       "    <tr>\n",
       "      <th>...</th>\n",
       "      <td>...</td>\n",
       "      <td>...</td>\n",
       "      <td>...</td>\n",
       "      <td>...</td>\n",
       "      <td>...</td>\n",
       "      <td>...</td>\n",
       "      <td>...</td>\n",
       "    </tr>\n",
       "    <tr>\n",
       "      <th>627</th>\n",
       "      <td>404</td>\n",
       "      <td>Virtual Reality</td>\n",
       "      <td>5.0</td>\n",
       "      <td>University of London</td>\n",
       "      <td>SPECIALIZATION</td>\n",
       "      <td>https://www.coursera.org/specializations/virtu...</td>\n",
       "      <td>NaN</td>\n",
       "    </tr>\n",
       "    <tr>\n",
       "      <th>628</th>\n",
       "      <td>305</td>\n",
       "      <td>Virtual Teacher</td>\n",
       "      <td>5.0</td>\n",
       "      <td>University of California, Irvine</td>\n",
       "      <td>SPECIALIZATION</td>\n",
       "      <td>https://www.coursera.org/specializations/virtu...</td>\n",
       "      <td>NaN</td>\n",
       "    </tr>\n",
       "    <tr>\n",
       "      <th>629</th>\n",
       "      <td>354</td>\n",
       "      <td>Vital Skills for Data Science</td>\n",
       "      <td>4.0</td>\n",
       "      <td>University of Colorado Boulder</td>\n",
       "      <td>SPECIALIZATION</td>\n",
       "      <td>https://www.coursera.org/specializations/vital...</td>\n",
       "      <td>NaN</td>\n",
       "    </tr>\n",
       "    <tr>\n",
       "      <th>630</th>\n",
       "      <td>186</td>\n",
       "      <td>Web Applications for Everybody</td>\n",
       "      <td>4.0</td>\n",
       "      <td>University of Michigan</td>\n",
       "      <td>SPECIALIZATION</td>\n",
       "      <td>https://www.coursera.org/specializations/web-a...</td>\n",
       "      <td>NaN</td>\n",
       "    </tr>\n",
       "    <tr>\n",
       "      <th>631</th>\n",
       "      <td>114</td>\n",
       "      <td>Web Design for Everybody: Basics of Web Develo...</td>\n",
       "      <td>5.0</td>\n",
       "      <td>University of Michigan</td>\n",
       "      <td>SPECIALIZATION</td>\n",
       "      <td>https://www.coursera.org/specializations/web-d...</td>\n",
       "      <td>NaN</td>\n",
       "    </tr>\n",
       "  </tbody>\n",
       "</table>\n",
       "<p>632 rows × 7 columns</p>\n",
       "</div>"
      ],
      "text/plain": [
       "     Column1                                               NAME  \\\n",
       "0         59  (ISC)² Systems Security Certified Practitioner...   \n",
       "1        357             3D Printing and Additive Manufacturing   \n",
       "2        355                                         商务基础 (中文版)   \n",
       "3        502                            商务英语课程 Business English   \n",
       "4        341                                  Éxito Profesional   \n",
       "..       ...                                                ...   \n",
       "627      404                                    Virtual Reality   \n",
       "628      305                                    Virtual Teacher   \n",
       "629      354                      Vital Skills for Data Science   \n",
       "630      186                     Web Applications for Everybody   \n",
       "631      114  Web Design for Everybody: Basics of Web Develo...   \n",
       "\n",
       "     NUMBER OF COURSES                                 companyname  \\\n",
       "0                  6.0                                      (ISC)²   \n",
       "1                  5.0  University of Illinois at Urbana-Champaign   \n",
       "2                  5.0                  University of Pennsylvania   \n",
       "3                  4.0                    Arizona State University   \n",
       "4                 10.0            University of California, Irvine   \n",
       "..                 ...                                         ...   \n",
       "627                5.0                        University of London   \n",
       "628                5.0            University of California, Irvine   \n",
       "629                4.0              University of Colorado Boulder   \n",
       "630                4.0                      University of Michigan   \n",
       "631                5.0                      University of Michigan   \n",
       "\n",
       "         coursetype                                               URL2  \\\n",
       "0    SPECIALIZATION  https://www.coursera.org/specializations/sscp-...   \n",
       "1    SPECIALIZATION  https://www.coursera.org/specializations/3d-pr...   \n",
       "2    SPECIALIZATION  https://www.coursera.org/specializations/whart...   \n",
       "3    SPECIALIZATION  https://www.coursera.org/specializations/shang...   \n",
       "4    SPECIALIZATION  https://www.coursera.org/specializations/exito...   \n",
       "..              ...                                                ...   \n",
       "627  SPECIALIZATION  https://www.coursera.org/specializations/virtu...   \n",
       "628  SPECIALIZATION  https://www.coursera.org/specializations/virtu...   \n",
       "629  SPECIALIZATION  https://www.coursera.org/specializations/vital...   \n",
       "630  SPECIALIZATION  https://www.coursera.org/specializations/web-a...   \n",
       "631  SPECIALIZATION  https://www.coursera.org/specializations/web-d...   \n",
       "\n",
       "     Column5  \n",
       "0        NaN  \n",
       "1        NaN  \n",
       "2        NaN  \n",
       "3        NaN  \n",
       "4        NaN  \n",
       "..       ...  \n",
       "627      NaN  \n",
       "628      NaN  \n",
       "629      NaN  \n",
       "630      NaN  \n",
       "631      NaN  \n",
       "\n",
       "[632 rows x 7 columns]"
      ]
     },
     "execution_count": 36,
     "metadata": {},
     "output_type": "execute_result"
    }
   ],
   "source": [
    "df = pd.DataFrame({\"NAME\": NAME, \"URL\": URL, \"NUMBER OF COURSES\": no_courses, \"COMPANY/INSTITUTE NAME\": companyname, \"CERTIFICATION TYPE\": coursetype}) # creating a dataset using pandas\n",
    "df.to_csv(\"coursera.csv\")\n",
    "df\n"
   ]
  },
  {
   "cell_type": "code",
   "execution_count": 37,
   "id": "24e4a148",
   "metadata": {
    "scrolled": true
   },
   "outputs": [
    {
     "name": "stdout",
     "output_type": "stream",
     "text": [
      "EXECUTE NEXT CELL\n"
     ]
    }
   ],
   "source": [
    "backupdf = df \n",
    " # back up\n",
    "print('EXECUTE NEXT CELL')    "
   ]
  },
  {
   "cell_type": "code",
   "execution_count": 38,
   "id": "d244f6d5",
   "metadata": {},
   "outputs": [],
   "source": [
    "df.to_csv(\"backupcoursera.csv\")  # back up csv"
   ]
  },
  {
   "cell_type": "code",
   "execution_count": 39,
   "id": "12ec7f2e",
   "metadata": {},
   "outputs": [
    {
     "name": "stdout",
     "output_type": "stream",
     "text": [
      "EXECUTE NEXT CELL\n"
     ]
    }
   ],
   "source": [
    "wk = df # working dataframe\n",
    "wk\n",
    "print('EXECUTE NEXT CELL')"
   ]
  },
  {
   "cell_type": "code",
   "execution_count": 40,
   "id": "26ebb8ba",
   "metadata": {},
   "outputs": [
    {
     "name": "stdout",
     "output_type": "stream",
     "text": [
      "EXECUTE NEXT CELL\n"
     ]
    }
   ],
   "source": [
    "wk = wk.replace(['N/A'],0)  # replacing N/A with 0\n",
    "print('EXECUTE NEXT CELL')"
   ]
  },
  {
   "cell_type": "code",
   "execution_count": 41,
   "id": "c031cda1",
   "metadata": {},
   "outputs": [
    {
     "name": "stdout",
     "output_type": "stream",
     "text": [
      "EXECUTE NEXT CELL\n"
     ]
    }
   ],
   "source": [
    "wk.sort_values(by=['NUMBER OF COURSES'], inplace=True) # sorting the values \n",
    "print('EXECUTE NEXT CELL')"
   ]
  },
  {
   "cell_type": "code",
   "execution_count": 43,
   "id": "22c1891f",
   "metadata": {},
   "outputs": [
    {
     "data": {
      "text/html": [
       "<div>\n",
       "<style scoped>\n",
       "    .dataframe tbody tr th:only-of-type {\n",
       "        vertical-align: middle;\n",
       "    }\n",
       "\n",
       "    .dataframe tbody tr th {\n",
       "        vertical-align: top;\n",
       "    }\n",
       "\n",
       "    .dataframe thead th {\n",
       "        text-align: right;\n",
       "    }\n",
       "</style>\n",
       "<table border=\"1\" class=\"dataframe\">\n",
       "  <thead>\n",
       "    <tr style=\"text-align: right;\">\n",
       "      <th></th>\n",
       "      <th>Column1</th>\n",
       "      <th>NAME</th>\n",
       "      <th>NUMBER OF COURSES</th>\n",
       "      <th>companyname</th>\n",
       "      <th>coursetype</th>\n",
       "      <th>URL2</th>\n",
       "      <th>Column5</th>\n",
       "    </tr>\n",
       "  </thead>\n",
       "  <tbody>\n",
       "    <tr>\n",
       "      <th>272</th>\n",
       "      <td>232</td>\n",
       "      <td>GIS, Mapping, and Spatial Analysis</td>\n",
       "      <td>0.0</td>\n",
       "      <td>University of Toronto</td>\n",
       "      <td>SPECIALIZATION</td>\n",
       "      <td>https://www.coursera.org/specializations/gis-m...</td>\n",
       "      <td>NaN</td>\n",
       "    </tr>\n",
       "    <tr>\n",
       "      <th>394</th>\n",
       "      <td>592</td>\n",
       "      <td>Leading a Family Business</td>\n",
       "      <td>3.0</td>\n",
       "      <td>University of Michigan</td>\n",
       "      <td>SPECIALIZATION</td>\n",
       "      <td>https://www.coursera.org/specializations/leadi...</td>\n",
       "      <td>NaN</td>\n",
       "    </tr>\n",
       "    <tr>\n",
       "      <th>393</th>\n",
       "      <td>537</td>\n",
       "      <td>Leadership for Public Health Crises</td>\n",
       "      <td>3.0</td>\n",
       "      <td>Tecnológico de Monterrey</td>\n",
       "      <td>SPECIALIZATION</td>\n",
       "      <td>https://www.coursera.org/specializations/leade...</td>\n",
       "      <td>NaN</td>\n",
       "    </tr>\n",
       "    <tr>\n",
       "      <th>392</th>\n",
       "      <td>489</td>\n",
       "      <td>Leadership Development for Engineers</td>\n",
       "      <td>3.0</td>\n",
       "      <td>The State University of New York</td>\n",
       "      <td>SPECIALIZATION</td>\n",
       "      <td>https://www.coursera.org/specializations/leade...</td>\n",
       "      <td>NaN</td>\n",
       "    </tr>\n",
       "    <tr>\n",
       "      <th>391</th>\n",
       "      <td>543</td>\n",
       "      <td>Leadership and Negotiation Skills</td>\n",
       "      <td>3.0</td>\n",
       "      <td>Rice University</td>\n",
       "      <td>SPECIALIZATION</td>\n",
       "      <td>https://www.coursera.org/specializations/leade...</td>\n",
       "      <td>NaN</td>\n",
       "    </tr>\n",
       "    <tr>\n",
       "      <th>...</th>\n",
       "      <td>...</td>\n",
       "      <td>...</td>\n",
       "      <td>...</td>\n",
       "      <td>...</td>\n",
       "      <td>...</td>\n",
       "      <td>...</td>\n",
       "      <td>...</td>\n",
       "    </tr>\n",
       "    <tr>\n",
       "      <th>318</th>\n",
       "      <td>18</td>\n",
       "      <td>IBM Full Stack Cloud Developer</td>\n",
       "      <td>10.0</td>\n",
       "      <td>IBM</td>\n",
       "      <td>PROFESSIONAL CERTIFICATE</td>\n",
       "      <td>https://www.coursera.org/professional-certific...</td>\n",
       "      <td>NaN</td>\n",
       "    </tr>\n",
       "    <tr>\n",
       "      <th>4</th>\n",
       "      <td>341</td>\n",
       "      <td>Éxito Profesional</td>\n",
       "      <td>10.0</td>\n",
       "      <td>University of California, Irvine</td>\n",
       "      <td>SPECIALIZATION</td>\n",
       "      <td>https://www.coursera.org/specializations/exito...</td>\n",
       "      <td>NaN</td>\n",
       "    </tr>\n",
       "    <tr>\n",
       "      <th>316</th>\n",
       "      <td>11</td>\n",
       "      <td>IBM Data Engineering</td>\n",
       "      <td>13.0</td>\n",
       "      <td>IBM</td>\n",
       "      <td>PROFESSIONAL CERTIFICATE</td>\n",
       "      <td>https://www.coursera.org/professional-certific...</td>\n",
       "      <td>NaN</td>\n",
       "    </tr>\n",
       "    <tr>\n",
       "      <th>426</th>\n",
       "      <td>522</td>\n",
       "      <td>Managing Innovation and Design Thinking</td>\n",
       "      <td>NaN</td>\n",
       "      <td>HEC Paris</td>\n",
       "      <td>SPECIALIZATION</td>\n",
       "      <td>https://www.coursera.org/browse/business/leade...</td>\n",
       "      <td>NaN</td>\n",
       "    </tr>\n",
       "    <tr>\n",
       "      <th>617</th>\n",
       "      <td>40</td>\n",
       "      <td>UCI Project Management</td>\n",
       "      <td>NaN</td>\n",
       "      <td>University of California, Irvine</td>\n",
       "      <td>PROFESSIONAL CERTIFICATE</td>\n",
       "      <td>https://www.coursera.org/professional-certific...</td>\n",
       "      <td>NaN</td>\n",
       "    </tr>\n",
       "  </tbody>\n",
       "</table>\n",
       "<p>632 rows × 7 columns</p>\n",
       "</div>"
      ],
      "text/plain": [
       "     Column1                                     NAME  NUMBER OF COURSES  \\\n",
       "272      232       GIS, Mapping, and Spatial Analysis                0.0   \n",
       "394      592                Leading a Family Business                3.0   \n",
       "393      537      Leadership for Public Health Crises                3.0   \n",
       "392      489     Leadership Development for Engineers                3.0   \n",
       "391      543        Leadership and Negotiation Skills                3.0   \n",
       "..       ...                                      ...                ...   \n",
       "318       18           IBM Full Stack Cloud Developer               10.0   \n",
       "4        341                        Éxito Profesional               10.0   \n",
       "316       11                     IBM Data Engineering               13.0   \n",
       "426      522  Managing Innovation and Design Thinking                NaN   \n",
       "617       40                   UCI Project Management                NaN   \n",
       "\n",
       "                          companyname                coursetype  \\\n",
       "272             University of Toronto            SPECIALIZATION   \n",
       "394            University of Michigan            SPECIALIZATION   \n",
       "393          Tecnológico de Monterrey            SPECIALIZATION   \n",
       "392  The State University of New York            SPECIALIZATION   \n",
       "391                   Rice University            SPECIALIZATION   \n",
       "..                                ...                       ...   \n",
       "318                               IBM  PROFESSIONAL CERTIFICATE   \n",
       "4    University of California, Irvine            SPECIALIZATION   \n",
       "316                               IBM  PROFESSIONAL CERTIFICATE   \n",
       "426                         HEC Paris            SPECIALIZATION   \n",
       "617  University of California, Irvine  PROFESSIONAL CERTIFICATE   \n",
       "\n",
       "                                                  URL2  Column5  \n",
       "272  https://www.coursera.org/specializations/gis-m...      NaN  \n",
       "394  https://www.coursera.org/specializations/leadi...      NaN  \n",
       "393  https://www.coursera.org/specializations/leade...      NaN  \n",
       "392  https://www.coursera.org/specializations/leade...      NaN  \n",
       "391  https://www.coursera.org/specializations/leade...      NaN  \n",
       "..                                                 ...      ...  \n",
       "318  https://www.coursera.org/professional-certific...      NaN  \n",
       "4    https://www.coursera.org/specializations/exito...      NaN  \n",
       "316  https://www.coursera.org/professional-certific...      NaN  \n",
       "426  https://www.coursera.org/browse/business/leade...      NaN  \n",
       "617  https://www.coursera.org/professional-certific...      NaN  \n",
       "\n",
       "[632 rows x 7 columns]"
      ]
     },
     "execution_count": 43,
     "metadata": {},
     "output_type": "execute_result"
    }
   ],
   "source": [
    "wk"
   ]
  },
  {
   "cell_type": "code",
   "execution_count": 42,
   "id": "4a1bb6d4",
   "metadata": {},
   "outputs": [
    {
     "name": "stdout",
     "output_type": "stream",
     "text": [
      "END OF CODE\n"
     ]
    }
   ],
   "source": [
    "\n",
    "print('END OF CODE')"
   ]
  },
  {
   "cell_type": "code",
   "execution_count": null,
   "id": "dc5d400c",
   "metadata": {},
   "outputs": [],
   "source": []
  }
 ],
 "metadata": {
  "kernelspec": {
   "display_name": "Python 3 (ipykernel)",
   "language": "python",
   "name": "python3"
  },
  "language_info": {
   "codemirror_mode": {
    "name": "ipython",
    "version": 3
   },
   "file_extension": ".py",
   "mimetype": "text/x-python",
   "name": "python",
   "nbconvert_exporter": "python",
   "pygments_lexer": "ipython3",
   "version": "3.9.7"
  }
 },
 "nbformat": 4,
 "nbformat_minor": 5
}
